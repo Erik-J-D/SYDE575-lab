{
 "cells": [
  {
   "cell_type": "markdown",
   "metadata": {},
   "source": [
    "### Imports and image loading"
   ]
  },
  {
   "cell_type": "code",
   "execution_count": 1,
   "metadata": {
    "collapsed": true
   },
   "outputs": [],
   "source": [
    "import math\n",
    "\n",
    "from PIL import Image\n",
    "import numpy as np"
   ]
  },
  {
   "cell_type": "code",
   "execution_count": 2,
   "metadata": {
    "collapsed": true
   },
   "outputs": [],
   "source": [
    "cam = Image.open('cameraman.tif', mode='r')\n",
    "tire = Image.open('tire.tif', mode='r')\n",
    "lena = Image.open('lena.tiff', mode='r')"
   ]
  },
  {
   "cell_type": "markdown",
   "metadata": {},
   "source": [
    "### Make a darker Lena for testing MSE and PSNR"
   ]
  },
  {
   "cell_type": "code",
   "execution_count": 3,
   "metadata": {
    "collapsed": false
   },
   "outputs": [],
   "source": [
    "lena_dark = np.array(lena) / 1.1\n",
    "lena_dark = Image.fromarray(np.uint8(lena_dark))"
   ]
  },
  {
   "cell_type": "code",
   "execution_count": 4,
   "metadata": {
    "collapsed": false
   },
   "outputs": [],
   "source": [
    "def MSE(im1, im2):\n",
    "    assert im1.size == im2.size and im1.mode == im2.mode\n",
    "\n",
    "    SE = 0\n",
    "    size = im1.size\n",
    "\n",
    "    im1_data = np.array(im1).flatten()\n",
    "    im2_data = np.array(im2).flatten()\n",
    "\n",
    "    SE = sum(pow(im1_data - im2_data, 2))\n",
    "    \n",
    "    MSE = SE / (size[0] * size[1])\n",
    "    return MSE\n",
    "\n",
    "def PSNR(im1, im2):\n",
    "    assert im1.size == im2.size and im1.mode == im2.mode\n",
    "    mse = MSE(im1, im2)\n",
    "    if mse == 0:\n",
    "        return math.inf\n",
    "    return 10 * math.log10(65025.0 / MSE(im1, im2)) # 255^2 = 65025"
   ]
  },
  {
   "cell_type": "code",
   "execution_count": 5,
   "metadata": {
    "collapsed": false
   },
   "outputs": [
    {
     "data": {
      "text/plain": [
       "23.380633641482028"
      ]
     },
     "execution_count": 5,
     "metadata": {},
     "output_type": "execute_result"
    }
   ],
   "source": [
    "PSNR(lena, lena_dark)"
   ]
  },
  {
   "cell_type": "code",
   "execution_count": null,
   "metadata": {
    "collapsed": true
   },
   "outputs": [],
   "source": []
  }
 ],
 "metadata": {
  "kernelspec": {
   "display_name": "Python 3",
   "language": "python",
   "name": "python3"
  },
  "language_info": {
   "codemirror_mode": {
    "name": "ipython",
    "version": 3
   },
   "file_extension": ".py",
   "mimetype": "text/x-python",
   "name": "python",
   "nbconvert_exporter": "python",
   "pygments_lexer": "ipython3",
   "version": "3.5.2"
  }
 },
 "nbformat": 4,
 "nbformat_minor": 1
}
